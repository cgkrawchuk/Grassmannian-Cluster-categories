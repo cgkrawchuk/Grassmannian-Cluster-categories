# Constructing the Grassmann ring of type (k,n)
def grassmannRing(k,n):
     # Build the set of indices
     nChoosek = Subsets(range(1,n+1),k)
     indices = []
     for s in nChoosek:
         index = ''
         for i in s:
             index = index + str(i)
         indices.append(index)

     # Construct the ring of polynomials indexed by the k-subsets of [n]
     R = PolynomialRing(QQ,['p%s' %i for i in indices])

     # Construct the ideal of Plücker relations
     R.inject_variables()  # Needed to use variables of R
     pluckerRelations = []

     #Build the Plücker relation
     for s1 in Subsets(range(1,n+1),k-1):
         for s2 in Subsets(range(1,n+1),k+1):
             relation = 0
             termSign = -1
             for j in s2:
                 termSign = termSign*(-1)
                 if j not in s1:
                     t1 = list(s1)
                     t2 = list(s2)
                     t2.remove(j)
                     sign = 1
                     for i in t1:
                         if j<i:
                             sign = sign*(-1)
                     t1.append(j)
                     t1.sort()
                     t2.sort()
                     var1 = 'p'
                     var2 = 'p'
                     for i in t1:
                         var1 = var1+str(i)
                     for j in t2:
                         var2 = var2+str(j)
                     var1 = R(var1)
                     var2 = R(var2)
                     relation = relation + termSign*sign*var1*var2
             pluckerRelations.append(relation)
     #Consecutive intervals are sent to 1 (ex: p123 = 1)
     for i in range(1,n+1):
         var = 'p'
         l = [i%n + 1, (i+1)%n + 1, (i+2)%n + 1]
         l.sort()
         for i in l:
             var = var + str(i)
         var = R(var)
         pluckerRelations.append(var - 1)
     I = R.ideal(pluckerRelations)
     # Return the ring and the ideal
     return R,I
