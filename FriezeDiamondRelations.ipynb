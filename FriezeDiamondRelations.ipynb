# Constructing the generalised diamond rule relations for (k,n) from small diamonds
def diamondRelations(k,n):
    assert n>=5
    nChoosek = Subsets(range(1,n+1),k)
    indices = []
    subsets =[]
    for s in nChoosek:
        s = list(s)
        s.sort()
        index = ''
        for i in s:
            index = index + 'x' + str(i)
        indices.append(index)
        subsets.append(s)
     
    # Construct the ring of polynomials indexed by the k-subsets of [n]
    R = PolynomialRing(QQ,['p%s' %i for i in indices])
   
    # Construct the ideal of Plücker relations
    R.inject_variables()  # Needed to use variables of R
   
    diamonds = []
   
    '''
    #Consecutive intervals are sent to 1 (ex: p123 = 1)
    for i in range(1,n+1):
        var = 'p'
        l = [(i+j)%n + 1 for j in range(k)]
        l.sort()
        for i in l:
            var = var + 'x' + str(i)
            var = R(var)
    diamondRelations.append(var - 1)    
    '''        
   
    for I in subsets:        
        for x in I:            
            #creates <x ordering
            ordering = list(range(x+1,n+1)) + list(range(1,x))              
            K=I.copy()
            K.remove(x)
            i = K[0]
            j = K[1]
       
            if ordering.index(i)> ordering.index(j):
                temp =i
                i=j
                j=temp
               
            #checks possible diamond sizes from given xij    
            # if want simple diamonds, change to only allow m,l =1
            for m in range(1,n-3):
                for l in range(1,n-3):
                    if i+m <=n:
                        a=i+m
                    else:
                        a = (i+m)-6                        
                    if j-l >=1:
                        b=j-l
                    else:
                        b =j-l +6
                   
                    if a not in ordering or b not in ordering:
                        continue
                    if ordering.index(a)<ordering.index(b) :
                                     
                        v1 ={x, i, b}
                        v2 ={x,a,j}
                        v3 = {x,i, j}
                        v4 = {x, a, b}
                        v5 ={x, i, a}
                        v6= {x, b, j}
                        v1 = list(v1)
                        v2 = list(v2)
                        v3 = list(v3)
                        v4 = list(v4)
                        v5 = list(v5)
                        v6 = list(v6)
                       
                        # at the moment this only works for k=3
                        var1='p'+ 'x'+ str(v1[0]) + 'x'+str(v1[1])+'x'+str(v1[2])
                        var2='p'+ 'x'+ str(v2[0]) + 'x'+str(v2[1])+'x'+str(v2[2])
                        var3='p'+ 'x'+ str(v3[0]) + 'x'+str(v3[1])+'x'+str(v3[2])
                        var4='p'+ 'x'+ str(v4[0]) + 'x'+str(v4[1])+'x'+str(v4[2])
                        var5='p'+ 'x'+ str(v5[0]) + 'x'+str(v5[1])+'x'+str(v5[2])
                        var6='p'+ 'x'+ str(v6[0]) + 'x'+str(v6[1])+'x'+str(v6[2])
                       
                        var1 = R(var1)
                        var2 = R(var2)
                        var3 = R(var3)
                        var4 = R(var4)
                        var5 = R(var5)
                        var6 = R(var6)  
     
                        relation = var1*var2 +(-1)*var3*var4 + (-1)*var5*var6  
                        diamonds.append(relation)
                   
           
    I = R.ideal(diamonds)
    # Return the ring and the ideal
    return R,I    
