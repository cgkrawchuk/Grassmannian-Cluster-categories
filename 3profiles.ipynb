# Gives the profile for the minimal composition I -> J -> K
print("Gives the profile for the minimal composition I -> J -> K")
n = int(input("Value for n: "))
I_str = input("Value for I: ")
I = [int(i) for i in I_str]
J_str = input("Value for J: ")
J = [int(i) for i in J_str]
K_str = input("Value for K: ")
K = [int(i) for i in K_str]




import matplotlib.pyplot as plt
import numpy as np

def create_Points(n, J):
    JPoints = [(0, 0)]  # Initialize with the first point (0, 0)

    for i in range(1, n + 1):
        x_prev, y_prev = JPoints[-1]  # Get the previous point

        if i in J:
            y = y_prev - 1
        else:
            y = y_prev + 1

        JPoints.append((i, y))

    return JPoints


def interpolate_f(x, JPoints):
    for i in range(len(JPoints) - 1):
        x1, y1 = JPoints[i]
        x2, y2 = JPoints[i + 1]

        if x1 <= x <= x2:
            # Linear interpolation between (x1, y1) and (x2, y2)
            return y1 + (y2 - y1) * (x - x1) / (x2 - x1)

    # Handle cases where x is outside the range covered by JPoints
    if x < JPoints[0][0]:
        return JPoints[0][1]
    else:
        return JPoints[-1][1]


# Call the functions to create 'JPoints' and 'IPoints'
JPoints = create_Points(n, J)
IPoints = create_Points(n, I)
KPoints = create_Points(n,K)
maxDif = 0
for i in range (0,n+1):
    (a,b) = KPoints[i]
    (c,d) = JPoints[i]
    
    if (d-b)> maxDif:
        maxDif = d-b
 

for i in range(0,n+1):
    (x,y) = JPoints[i] 
    JPoints[i] = (x,y-maxDif)
    
    

for i in range (0,n+1):
    (a,b) = JPoints[i]
    (c,d) = IPoints[i]
    
    if (d-b)> maxDif:
        maxDif = d-b
 

for i in range(0,n+1):
    (x,y) = IPoints[i] 
    IPoints[i] = (x,y-maxDif)
    
 
    


# Generate a set of x values for the graph
x_values = np.linspace(0, n, 100)  # Create a range of x values for a smoother plot
f_values = [interpolate_f(x, KPoints) for x in x_values]
g_values = [interpolate_f(x, JPoints) for x in x_values]
h_values = [interpolate_f(x, IPoints) for x in x_values]

# Form the label strings from the values of 'J' and 'I'
label_string_f = ''.join(map(str, K))
label_string_g = ''.join(map(str, J))
label_string_h = ''.join(map(str, I))

# Plot 'f(x)' and 'g(x)' together with labeled functions
plt.plot(x_values, f_values, label=label_string_f, linestyle='-')
plt.plot(x_values, g_values, label=label_string_g, linestyle='--')
plt.plot(x_values, h_values, label=label_string_h, linestyle='-')
plt.grid()

# Remove the titles for the y-axis and the x-axis
plt.xlabel('')
plt.ylabel('')

# Remove the numbering for the y-axis
plt.gca().yaxis.set_major_formatter(plt.NullFormatter())

plt.legend()

# Set the aspect ratio of the plot to ensure square grid boxes
plt.gca().set_aspect('equal', adjustable='box')

# Do not set y-axis ticks and labels
# Set y-axis ticks and labels as integers
y_ticks = np.arange(int(min(min(f_values), min(g_values)) - 1), int(max(max(f_values), max(g_values)) + 2))

plt.show()
